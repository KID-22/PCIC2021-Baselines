{
 "cells": [
  {
   "cell_type": "markdown",
   "metadata": {},
   "source": [
    "# Baseline1: Extract deterministic data according to the problem description\n",
    "For more details, you can find the whole project from https://github.com/KID-22/PCIC2021-Baselines. Welcome to watch, star and fork! Note that some new baselines will update soon."
   ]
  },
  {
   "cell_type": "markdown",
   "metadata": {},
   "source": [
    "### Load Data"
   ]
  },
  {
   "cell_type": "code",
   "execution_count": 1,
   "metadata": {},
   "outputs": [],
   "source": [
    "import numpy as np\n",
    "import pandas as pd\n",
    "import random"
   ]
  },
  {
   "cell_type": "code",
   "execution_count": 2,
   "metadata": {},
   "outputs": [
    {
     "data": {
      "text/plain": [
       "array([[  0,  26,  -1],\n",
       "       [  0, 100,  12],\n",
       "       [  0, 100,   2],\n",
       "       ...,\n",
       "       [999, 736,   4],\n",
       "       [999, 776,   4],\n",
       "       [999, 776,  14]])"
      ]
     },
     "execution_count": 2,
     "metadata": {},
     "output_type": "execute_result"
    }
   ],
   "source": [
    "bigtag = np.loadtxt('../train/bigtag.txt',dtype=int)\n",
    "bigtag"
   ]
  },
  {
   "cell_type": "code",
   "execution_count": 3,
   "metadata": {},
   "outputs": [
    {
     "data": {
      "text/plain": [
       "array([[  4,  83,  45],\n",
       "       [  4, 125,   4],\n",
       "       [  4, 345,  12],\n",
       "       ...,\n",
       "       [998, 952,  43],\n",
       "       [998, 989,   4],\n",
       "       [998, 989,  35]])"
      ]
     },
     "execution_count": 3,
     "metadata": {},
     "output_type": "execute_result"
    }
   ],
   "source": [
    "choicetag = np.loadtxt('../train/choicetag.txt',dtype=int)\n",
    "choicetag"
   ]
  },
  {
   "cell_type": "code",
   "execution_count": 4,
   "metadata": {},
   "outputs": [
    {
     "data": {
      "text/plain": [
       "[array([0, 1, 2, 3, 4, 5, 6, 7]),\n",
       " array([ 8,  9,  0, 10, 11, 12,  7, 13]),\n",
       " array([14, 15,  4, 16, 17, 18, 19, 20]),\n",
       " array([ 2,  0,  4, 21,  3,  7, 22,  6]),\n",
       " array([23,  0, 24, 25, 21, 26, 27,  7])]"
      ]
     },
     "execution_count": 4,
     "metadata": {},
     "output_type": "execute_result"
    }
   ],
   "source": [
    "movie_data = np.loadtxt('../train/movie.txt',dtype=int)\n",
    "movie = []\n",
    "for i in range(movie_data.shape[0]):\n",
    "    tmp = movie_data[i,1:]\n",
    "    movie.append(tmp)\n",
    "movie[:5]"
   ]
  },
  {
   "cell_type": "code",
   "execution_count": 5,
   "metadata": {},
   "outputs": [
    {
     "data": {
      "text/plain": [
       "1719"
      ]
     },
     "execution_count": 5,
     "metadata": {},
     "output_type": "execute_result"
    }
   ],
   "source": [
    "tag_num = np.max(movie)\n",
    "tag_num"
   ]
  },
  {
   "cell_type": "markdown",
   "metadata": {},
   "source": [
    "### Extract data"
   ]
  },
  {
   "cell_type": "code",
   "execution_count": 6,
   "metadata": {},
   "outputs": [],
   "source": [
    "mat = np.zeros((1000,tag_num+1))\n",
    "all_data_array = []\n",
    "bigtag_array = []\n",
    "choicetag_array = []"
   ]
  },
  {
   "cell_type": "code",
   "execution_count": 7,
   "metadata": {},
   "outputs": [],
   "source": [
    "# extract deterministic data from bigtag\n",
    "for i in range(bigtag.shape[0]):\n",
    "    if bigtag[i][2] != -1:\n",
    "        mat[bigtag[i][0]][bigtag[i][2]] = 1\n",
    "        all_data_array.append([bigtag[i][0],bigtag[i][2],1])\n",
    "        bigtag_array.append([bigtag[i][0],bigtag[i][2],1])\n",
    "    if bigtag[i][2] == -1:\n",
    "        for tag in movie[bigtag[i][1]]:\n",
    "            mat[bigtag[i][0]][tag] = -1\n",
    "            all_data_array.append([bigtag[i][0],tag,0])\n",
    "            bigtag_array.append([bigtag[i][0],tag,0])"
   ]
  },
  {
   "cell_type": "code",
   "execution_count": 8,
   "metadata": {},
   "outputs": [],
   "source": [
    "# # extract deterministic data from choicetag\n",
    "for i in range(choicetag.shape[0]):\n",
    "    if choicetag[i][2] != -1:\n",
    "        mat[choicetag[i][0]][choicetag[i][2]] = 1\n",
    "        all_data_array.append([choicetag[i][0],choicetag[i][2],1])\n",
    "        choicetag_array.append([choicetag[i][0],choicetag[i][2],1])\n",
    "    if choicetag[i][2] == -1:\n",
    "        for tag in movie[choicetag[i][1]]:\n",
    "            mat[choicetag[i][0]][tag] = -1\n",
    "            all_data_array.append([choicetag[i][0],tag,0])\n",
    "            choicetag_array.append([choicetag[i][0],tag,0])\n",
    "for i in range(choicetag.shape[0]):\n",
    "    if choicetag[i][2] != -1:\n",
    "        for tag in movie[choicetag[i][1]]:\n",
    "            if mat[choicetag[i][0]][tag] == 0:\n",
    "                mat[choicetag[i][0]][tag] = -1\n",
    "                all_data_array.append([choicetag[i][0],tag,0])\n",
    "                choicetag_array.append([choicetag[i][0],tag,0])"
   ]
  },
  {
   "cell_type": "code",
   "execution_count": 9,
   "metadata": {},
   "outputs": [
    {
     "name": "stdout",
     "output_type": "stream",
     "text": [
      "25225\n",
      "8510\n",
      "19421\n",
      "4141\n"
     ]
    }
   ],
   "source": [
    "# Unique\n",
    "all_data_array = np.array(all_data_array)\n",
    "print(all_data_array.shape[0])\n",
    "print(np.count_nonzero(all_data_array[:,2]))\n",
    "all_data_array = [tuple(row) for row in all_data_array]\n",
    "all_data_array = np.unique(all_data_array, axis=0)\n",
    "print(all_data_array.shape[0])\n",
    "print(np.count_nonzero(all_data_array[:,2]))"
   ]
  },
  {
   "cell_type": "code",
   "execution_count": 10,
   "metadata": {},
   "outputs": [
    {
     "name": "stdout",
     "output_type": "stream",
     "text": [
      "18454\n",
      "7206\n",
      "14133\n",
      "3889\n"
     ]
    }
   ],
   "source": [
    "# Unique\n",
    "bigtag_array = np.array(bigtag_array)\n",
    "print(bigtag_array.shape[0])\n",
    "print(np.count_nonzero(bigtag_array[:,2]))\n",
    "bigtag_array = [tuple(row) for row in bigtag_array]\n",
    "bigtag_array = np.unique(bigtag_array, axis=0)\n",
    "print(bigtag_array.shape[0])\n",
    "print(np.count_nonzero(bigtag_array[:,2]))"
   ]
  },
  {
   "cell_type": "code",
   "execution_count": 11,
   "metadata": {},
   "outputs": [
    {
     "name": "stdout",
     "output_type": "stream",
     "text": [
      "6771\n",
      "1304\n",
      "5802\n",
      "558\n"
     ]
    }
   ],
   "source": [
    "# Unique\n",
    "choicetag_array = np.array(choicetag_array)\n",
    "print(choicetag_array.shape[0])\n",
    "print(np.count_nonzero(choicetag_array[:,2]))\n",
    "choicetag_array = [tuple(row) for row in choicetag_array]\n",
    "choicetag_array = np.unique(choicetag_array, axis=0)\n",
    "print(choicetag_array.shape[0])\n",
    "print(np.count_nonzero(choicetag_array[:,2]))"
   ]
  },
  {
   "cell_type": "code",
   "execution_count": 12,
   "metadata": {},
   "outputs": [],
   "source": [
    "np.savetxt(\"./baseline_data/extract_bigtag.txt\",np.array(bigtag_array),fmt=\"%d\")\n",
    "np.savetxt(\"./baseline_data/extract_choicetag.txt\",np.array(choicetag_array),fmt=\"%d\")\n",
    "np.savetxt(\"./baseline_data/extract_alldata.txt\",np.array(all_data_array),fmt=\"%d\")"
   ]
  },
  {
   "cell_type": "markdown",
   "metadata": {},
   "source": [
    "### Evaluate"
   ]
  },
  {
   "cell_type": "code",
   "execution_count": 13,
   "metadata": {},
   "outputs": [
    {
     "data": {
      "text/plain": [
       "array([[  0, 283,   0],\n",
       "       [  1,  85,   0],\n",
       "       [  1, 256,   1],\n",
       "       ...,\n",
       "       [999,  58,   0],\n",
       "       [999, 126,   0],\n",
       "       [999, 280,   0]])"
      ]
     },
     "execution_count": 13,
     "metadata": {},
     "output_type": "execute_result"
    }
   ],
   "source": [
    "from sklearn.metrics import roc_auc_score,accuracy_score\n",
    "valid = np.loadtxt('../valid/validation.txt',dtype=int)\n",
    "valid"
   ]
  },
  {
   "cell_type": "code",
   "execution_count": 14,
   "metadata": {},
   "outputs": [
    {
     "name": "stdout",
     "output_type": "stream",
     "text": [
      "2039\n",
      "779\n"
     ]
    }
   ],
   "source": [
    "print(valid.shape[0])\n",
    "print(np.count_nonzero(valid[:,2]))"
   ]
  },
  {
   "cell_type": "code",
   "execution_count": 15,
   "metadata": {},
   "outputs": [],
   "source": [
    "def evaluate(val):\n",
    "    val_true = val[:,2]\n",
    "    val_pred = np.array([])\n",
    "    for i in range(val.shape[0]):\n",
    "        res_tmp = mat[val[i][0]][val[i][1]]\n",
    "        if res_tmp == 1:\n",
    "            val_pred = np.append(val_pred,1)\n",
    "        elif res_tmp == -1:\n",
    "            val_pred = np.append(val_pred,0)\n",
    "        elif res_tmp == 0:\n",
    "            rand = random.randint(1,100)\n",
    "            if(rand>50):\n",
    "                val_pred = np.append(val_pred,1)\n",
    "            else:\n",
    "                val_pred = np.append(val_pred,0)\n",
    "    print(\"AUC: \",roc_auc_score(val_true, val_pred))"
   ]
  },
  {
   "cell_type": "code",
   "execution_count": 18,
   "metadata": {},
   "outputs": [
    {
     "name": "stdout",
     "output_type": "stream",
     "text": [
      "AUC:  0.5747804470525908\n"
     ]
    }
   ],
   "source": [
    "evaluate(valid)"
   ]
  },
  {
   "cell_type": "code",
   "execution_count": null,
   "metadata": {},
   "outputs": [],
   "source": []
  },
  {
   "cell_type": "code",
   "execution_count": null,
   "metadata": {},
   "outputs": [],
   "source": []
  },
  {
   "cell_type": "code",
   "execution_count": null,
   "metadata": {},
   "outputs": [],
   "source": []
  }
 ],
 "metadata": {
  "kernelspec": {
   "display_name": "Python [conda env:root] *",
   "language": "python",
   "name": "conda-root-py"
  },
  "language_info": {
   "codemirror_mode": {
    "name": "ipython",
    "version": 3
   },
   "file_extension": ".py",
   "mimetype": "text/x-python",
   "name": "python",
   "nbconvert_exporter": "python",
   "pygments_lexer": "ipython3",
   "version": "3.7.1"
  }
 },
 "nbformat": 4,
 "nbformat_minor": 2
}
